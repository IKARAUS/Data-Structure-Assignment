{
  "nbformat": 4,
  "nbformat_minor": 0,
  "metadata": {
    "colab": {
      "provenance": []
    },
    "kernelspec": {
      "name": "python3",
      "display_name": "Python 3"
    },
    "language_info": {
      "name": "python"
    }
  },
  "cells": [
    {
      "cell_type": "markdown",
      "source": [
        "Section 1: Theory Questions\n",
        "\n",
        "1. What are data structures, and why are they important?\n",
        " Data structures are organized formats for storing and managing data so it can be accessed and modified\n",
        " efficiently. They are important because choosing the right data structure affects performance, memory\n",
        " usage, and code clarity.\n",
        " 2. Explain the difference between mutable and immutable data types with examples\n",
        " Mutable types (e.g., list, dict, set) can be changed in place after creation. Immutable types (e.g., tuple, str,\n",
        " int) cannot be altered — operations produce new objects instead.\n",
        " 3. What are the main differences between lists and tuples in Python\n",
        " Lists are mutable, use square brackets, and support many in-place operations. Tuples are immutable, use\n",
        " parentheses, and are typically faster and safer for fixed collections.\n",
        " 4. Describe how dictionaries store data\n",
        " Dictionaries store key-value pairs using a hash table. Keys are hashed to determine storage location,\n",
        " enabling average O(1) lookup, insertion, and deletion.\n",
        " 5. Why might you use a set instead of a list in Python\n",
        " Use a set when you need uniqueness of elements and fast membership tests (average O(1)). Sets\n",
        " automatically discard duplicates.\n",
        " 6. What is a string in Python, and how is it different from a list\n",
        " A string is an immutable sequence of characters. A list is a mutable sequence of arbitrary objects; strings\n",
        " only hold characters and cannot be modified in place.\n",
        " 7. How do tuples ensure data integrity in Python\n",
        " Because tuples are immutable, their contents cannot be changed after creation, protecting data from\n",
        " accidental modification and making them suitable for fixed records.\n",
        " 8. What is a hash table, and how does it relate to dictionaries in Python\n",
        " A hash table stores data in buckets indexed by hash values computed from keys. Python dictionaries are\n",
        " implemented on top of hash tables, mapping hashed keys to values.\n",
        " 9. Can lists contain different data types in Python\n",
        " Yes. Python lists are heterogeneous and can hold integers, strings, objects, other lists, etc., in the same\n",
        " list.\n",
        " 10. Explain why strings are immutable in Python\n",
        " String immutability simplifies reasoning about code, enables string interning and safe sharing between\n",
        " parts of a program, and can improve performance and memory usage.\n",
        " 11. What advantages do dictionaries offer over lists for certain tasks\n",
        " Dictionaries provide O(1) average-time lookups by key and are ideal when access by named key is\n",
        " required. Lists require O(n) search for a value unless index is known.\n",
        " 12. How do sets handle duplicate values in Python\n",
        " Sets automatically enforce uniqueness: attempting to add a duplicate element has no effect; only one\n",
        " instance of each value is stored.\n",
        " 13. Describe a scenario where using a tuple would be preferable over a list\n",
        " Use a tuple for fixed data such as coordinates (x, y), function return values that shouldn't change, or keys\n",
        " in dictionaries when immutability is required.\n",
        " 14. How does the “in” keyword work differently for lists and dictionaries\n",
        " For lists, 'x in list' checks for membership among values (linear search). For dictionaries, 'k in dict' checks\n",
        " whether k is a key (hash lookup, O(1) average).\n",
        " 15. Can you modify the elements of a tuple? Explain why or why not\n",
        "No — tuples are immutable. Their items cannot be reassigned. However, if a tuple contains a mutable\n",
        " object (like a list), that inner object can be modified.\n",
        " 16. What is a nested dictionary, and give an example of its use case\n",
        " A nested dictionary contains dictionaries as values. Example use case: storing user profiles where each\n",
        " user id maps to a dict of attributes: users = {'u1': {'name':'Alice','age':30}, 'u2': {...}}.\n",
        " 17. Describe the time complexity of accessing elements in a dictionary\n",
        " Average time complexity for accessing by key is O(1) due to hashing. Worst-case can degrade to O(n) if\n",
        " many collisions occur but Python's implementation minimizes this.\n",
        " 18. In what situations are lists preferred over dictionaries\n",
        " Lists are preferred when order and positional indexing matter, when storing sequences of items, or when\n",
        " items are frequently iterated in order.\n",
        " 19. Why are dictionaries considered unordered, and how does that affect data retrieval\n",
        " Historically dictionaries were unordered; from Python 3.7+ they preserve insertion order as an\n",
        " implementation detail, but primary access is by key, not position. Retrieval by key remains O(1);\n",
        " order-sensitive operations should still use list-like structures when appropriate.\n",
        " 20. Explain the difference between a list and a dictionary in terms of data retrieval\n",
        " Lists retrieve by index position (integer index, O(1) by index), while dictionaries retrieve by key (hash\n",
        " lookup, O(1) average) which is better for lookups by identifier."
      ],
      "metadata": {
        "id": "yrSTS4PEjsrH"
      }
    },
    {
      "cell_type": "markdown",
      "source": [
        "# ** Section 2: Practical Questions**"
      ],
      "metadata": {
        "id": "9AzfuOmSj-O4"
      }
    },
    {
      "cell_type": "code",
      "source": [
        "#1. Write code to create a string with your name and print it\n",
        "name = 'Jay Pathak'\n",
        "print(name)"
      ],
      "metadata": {
        "colab": {
          "base_uri": "https://localhost:8080/"
        },
        "id": "Od8tR8zUkLCy",
        "outputId": "de6c7c89-0e8b-45d1-ad0d-4191598af1ed"
      },
      "execution_count": 2,
      "outputs": [
        {
          "output_type": "stream",
          "name": "stdout",
          "text": [
            "Jay Pathak\n"
          ]
        }
      ]
    },
    {
      "cell_type": "code",
      "source": [
        "#2. Write code to find the length of the string 'Hello World'\n",
        "s = 'Hello World'\n",
        "print(len(s))"
      ],
      "metadata": {
        "colab": {
          "base_uri": "https://localhost:8080/"
        },
        "id": "Lypt05YZkUMJ",
        "outputId": "2fd79e20-4068-4deb-a0f8-b28b5b441a42"
      },
      "execution_count": 3,
      "outputs": [
        {
          "output_type": "stream",
          "name": "stdout",
          "text": [
            "11\n"
          ]
        }
      ]
    },
    {
      "cell_type": "code",
      "source": [
        "#3. Slice the first 3 characters from 'Python Programming'\n",
        "s = 'Python Programming'\n",
        "print(s[:3])"
      ],
      "metadata": {
        "colab": {
          "base_uri": "https://localhost:8080/"
        },
        "id": "8H95TrxZkh4A",
        "outputId": "d1353e1d-a9f1-42f6-b5ef-f58058980ab8"
      },
      "execution_count": 4,
      "outputs": [
        {
          "output_type": "stream",
          "name": "stdout",
          "text": [
            "Pyt\n"
          ]
        }
      ]
    },
    {
      "cell_type": "code",
      "source": [
        "#4. Convert the string 'hello' to uppercase\n",
        "s = 'hello'\n",
        "print(s.upper())"
      ],
      "metadata": {
        "colab": {
          "base_uri": "https://localhost:8080/"
        },
        "id": "kTIQ0pghkmsw",
        "outputId": "c83154ae-b0a2-4aef-aab9-cba6dc978d82"
      },
      "execution_count": 5,
      "outputs": [
        {
          "output_type": "stream",
          "name": "stdout",
          "text": [
            "HELLO\n"
          ]
        }
      ]
    },
    {
      "cell_type": "code",
      "source": [
        "#5. Replace 'apple' with 'orange' in 'I like apple'\n",
        "s = 'I like apple'\n",
        "print(s.replace('apple', 'orange'))"
      ],
      "metadata": {
        "colab": {
          "base_uri": "https://localhost:8080/"
        },
        "id": "AQbu-5V_kw6R",
        "outputId": "c83e5f9f-37b8-4cc6-f30a-089a00897838"
      },
      "execution_count": 6,
      "outputs": [
        {
          "output_type": "stream",
          "name": "stdout",
          "text": [
            "I like orange\n"
          ]
        }
      ]
    },
    {
      "cell_type": "code",
      "source": [
        "#6. Create a list with numbers 1 to 5 and print it\n",
        "nums = [1, 2, 3, 4, 5]\n",
        "print(nums)"
      ],
      "metadata": {
        "colab": {
          "base_uri": "https://localhost:8080/"
        },
        "id": "74wOFiKyk0-9",
        "outputId": "6ec653e5-803e-46cd-aeaa-2cfb8ee9cffe"
      },
      "execution_count": 7,
      "outputs": [
        {
          "output_type": "stream",
          "name": "stdout",
          "text": [
            "[1, 2, 3, 4, 5]\n"
          ]
        }
      ]
    },
    {
      "cell_type": "code",
      "source": [
        "#7. Append the number 10 to the list [1, 2, 3, 4]\n",
        "nums = [1, 2, 3, 4]\n",
        "nums.append(10)\n",
        "print(nums)"
      ],
      "metadata": {
        "colab": {
          "base_uri": "https://localhost:8080/"
        },
        "id": "_zHniBkJk5YU",
        "outputId": "1b517166-6210-4ab4-8743-15590c7b5dcd"
      },
      "execution_count": 8,
      "outputs": [
        {
          "output_type": "stream",
          "name": "stdout",
          "text": [
            "[1, 2, 3, 4, 10]\n"
          ]
        }
      ]
    },
    {
      "cell_type": "code",
      "source": [
        "#8. Remove the number 3 from the list [1, 2, 3, 4, 5]\n",
        "nums = [1, 2, 3, 4, 5]\n",
        "nums.remove(3)\n",
        "print(nums)"
      ],
      "metadata": {
        "colab": {
          "base_uri": "https://localhost:8080/"
        },
        "id": "bzuZV0V_k8mI",
        "outputId": "3368eeb3-b703-4fdd-e90c-f16a18d58530"
      },
      "execution_count": 9,
      "outputs": [
        {
          "output_type": "stream",
          "name": "stdout",
          "text": [
            "[1, 2, 4, 5]\n"
          ]
        }
      ]
    },
    {
      "cell_type": "code",
      "source": [
        "#9. Access the second element in the list ['a', 'b', 'c', 'd']\n",
        "letters = ['a', 'b', 'c', 'd']\n",
        "print(letters[1])"
      ],
      "metadata": {
        "colab": {
          "base_uri": "https://localhost:8080/"
        },
        "id": "nt2WbL5QlAiR",
        "outputId": "dfc1cede-2ce2-412d-9a3a-8f58720695f6"
      },
      "execution_count": 10,
      "outputs": [
        {
          "output_type": "stream",
          "name": "stdout",
          "text": [
            "b\n"
          ]
        }
      ]
    },
    {
      "cell_type": "code",
      "source": [
        "#10. Reverse the list [10, 20, 30, 40, 50]\n",
        "nums = [10, 20, 30, 40, 50]\n",
        "nums.reverse()\n",
        "print(nums)"
      ],
      "metadata": {
        "colab": {
          "base_uri": "https://localhost:8080/"
        },
        "id": "NYa2QxIJlEN7",
        "outputId": "191aee8d-ece4-465d-a658-bf5c36f970ec"
      },
      "execution_count": 13,
      "outputs": [
        {
          "output_type": "stream",
          "name": "stdout",
          "text": [
            "[50, 40, 30, 20, 10]\n"
          ]
        }
      ]
    },
    {
      "cell_type": "code",
      "source": [
        "#11. Create a tuple with the elements 100, 200, 300 and print it\n",
        "t = (100, 200, 300)\n",
        "print(t)"
      ],
      "metadata": {
        "colab": {
          "base_uri": "https://localhost:8080/"
        },
        "id": "D51-5sunlJU5",
        "outputId": "95ebfaa3-38f6-4432-9a8c-5afa90b87955"
      },
      "execution_count": 14,
      "outputs": [
        {
          "output_type": "stream",
          "name": "stdout",
          "text": [
            "(100, 200, 300)\n"
          ]
        }
      ]
    },
    {
      "cell_type": "code",
      "source": [
        "#12. Access the second-to-last element of the tuple ('red', 'green', 'blue', 'yellow')\n",
        "colors = ('red', 'green', 'blue', 'yellow')\n",
        "print(colors[-2])"
      ],
      "metadata": {
        "colab": {
          "base_uri": "https://localhost:8080/"
        },
        "id": "YhjHjeV6lLGB",
        "outputId": "ec8719e4-fe73-4cd2-a5cc-5e7800345471"
      },
      "execution_count": 15,
      "outputs": [
        {
          "output_type": "stream",
          "name": "stdout",
          "text": [
            "blue\n"
          ]
        }
      ]
    },
    {
      "cell_type": "code",
      "source": [
        "#13. Find the minimum number in the tuple (10, 20, 5, 15)\n",
        "nums = (10, 20, 5, 15)\n",
        "print(min(nums))"
      ],
      "metadata": {
        "colab": {
          "base_uri": "https://localhost:8080/"
        },
        "id": "osggngsSlM41",
        "outputId": "913b875e-a15b-4f4c-d23f-107256c7518e"
      },
      "execution_count": 16,
      "outputs": [
        {
          "output_type": "stream",
          "name": "stdout",
          "text": [
            "5\n"
          ]
        }
      ]
    },
    {
      "cell_type": "code",
      "source": [
        "#14. Find the index of 'cat' in the tuple ('dog', 'cat', 'rabbit')\n",
        "animals = ('dog', 'cat', 'rabbit')\n",
        "print(animals.index('cat'))"
      ],
      "metadata": {
        "colab": {
          "base_uri": "https://localhost:8080/"
        },
        "id": "p_dspjeElPeD",
        "outputId": "59b4ff98-e3b1-47d4-a664-024e9bb13090"
      },
      "execution_count": 17,
      "outputs": [
        {
          "output_type": "stream",
          "name": "stdout",
          "text": [
            "1\n"
          ]
        }
      ]
    },
    {
      "cell_type": "code",
      "source": [
        "#15. Create a tuple containing three different fruits and check if 'kiwi' is in it\n",
        "fruits = ('apple', 'banana', 'kiwi')\n",
        "print('kiwi' in fruits)"
      ],
      "metadata": {
        "colab": {
          "base_uri": "https://localhost:8080/"
        },
        "id": "uocd3NR5lRXc",
        "outputId": "9389eb91-4c8a-4afa-8ef9-03aa151962d9"
      },
      "execution_count": 18,
      "outputs": [
        {
          "output_type": "stream",
          "name": "stdout",
          "text": [
            "True\n"
          ]
        }
      ]
    },
    {
      "cell_type": "code",
      "source": [
        "#16. Create a set with the elements 'a', 'b', 'c' and print it\n",
        "letters = {'a', 'b', 'c'}\n",
        "print(letters)"
      ],
      "metadata": {
        "colab": {
          "base_uri": "https://localhost:8080/"
        },
        "id": "SDx4sYkklTl6",
        "outputId": "2d19e7d5-1d9b-4671-fa7c-882d28c42317"
      },
      "execution_count": 19,
      "outputs": [
        {
          "output_type": "stream",
          "name": "stdout",
          "text": [
            "{'b', 'a', 'c'}\n"
          ]
        }
      ]
    },
    {
      "cell_type": "code",
      "source": [
        "#17. Clear all elements from the set {1, 2, 3, 4, 5}\n",
        "nums = {1, 2, 3, 4, 5}\n",
        "nums.clear()\n",
        "print(nums)"
      ],
      "metadata": {
        "colab": {
          "base_uri": "https://localhost:8080/"
        },
        "id": "NwydGlQElVNz",
        "outputId": "091a94f5-8b5c-4743-e9a8-9a369e335eb5"
      },
      "execution_count": 20,
      "outputs": [
        {
          "output_type": "stream",
          "name": "stdout",
          "text": [
            "set()\n"
          ]
        }
      ]
    },
    {
      "cell_type": "code",
      "source": [
        "#18. Remove the element 4 from the set {1, 2, 3, 4}\n",
        "nums = {1, 2, 3, 4}\n",
        "nums.remove(4)\n",
        "print(nums)"
      ],
      "metadata": {
        "colab": {
          "base_uri": "https://localhost:8080/"
        },
        "id": "nH7Liuh8lW4T",
        "outputId": "21ff0039-04e2-49e6-f07f-3f410e37d936"
      },
      "execution_count": 21,
      "outputs": [
        {
          "output_type": "stream",
          "name": "stdout",
          "text": [
            "{1, 2, 3}\n"
          ]
        }
      ]
    },
    {
      "cell_type": "code",
      "source": [
        "#19. Find the union of two sets {1, 2, 3} and {3, 4, 5}\n",
        "a = {1, 2, 3}\n",
        "b = {3, 4, 5}\n",
        "print(a.union(b))"
      ],
      "metadata": {
        "colab": {
          "base_uri": "https://localhost:8080/"
        },
        "id": "cf_jzA2alYem",
        "outputId": "c0ad06b8-e83c-4bc9-ff50-4b36b8fd61d9"
      },
      "execution_count": 22,
      "outputs": [
        {
          "output_type": "stream",
          "name": "stdout",
          "text": [
            "{1, 2, 3, 4, 5}\n"
          ]
        }
      ]
    },
    {
      "cell_type": "code",
      "source": [
        "#20. Find the intersection of two sets {1, 2, 3} and {2, 3, 4}\n",
        "a = {1, 2, 3}\n",
        "b = {2, 3, 4}\n",
        "print(a.intersection(b))"
      ],
      "metadata": {
        "colab": {
          "base_uri": "https://localhost:8080/"
        },
        "id": "kK3rc61Nlad_",
        "outputId": "2d7aa731-ebf1-4d00-eb7c-e9bf3191f829"
      },
      "execution_count": 23,
      "outputs": [
        {
          "output_type": "stream",
          "name": "stdout",
          "text": [
            "{2, 3}\n"
          ]
        }
      ]
    },
    {
      "cell_type": "code",
      "source": [
        "#21. Create a dictionary with the keys 'name', 'age', and 'city', and print it\n",
        "person = {'name': 'John', 'age': 25, 'city': 'New York'}\n",
        "print(person)"
      ],
      "metadata": {
        "colab": {
          "base_uri": "https://localhost:8080/"
        },
        "id": "0i34lYuUlcWU",
        "outputId": "6f3f1729-bdad-41c1-bf8e-2254e476feb3"
      },
      "execution_count": 24,
      "outputs": [
        {
          "output_type": "stream",
          "name": "stdout",
          "text": [
            "{'name': 'John', 'age': 25, 'city': 'New York'}\n"
          ]
        }
      ]
    },
    {
      "cell_type": "code",
      "source": [
        "#22. Add a new key-value pair 'country': 'USA' to {'name': 'John', 'age': 25}\n",
        "person = {'name': 'John', 'age': 25}\n",
        "person['country'] = 'USA'\n",
        "print(person)"
      ],
      "metadata": {
        "colab": {
          "base_uri": "https://localhost:8080/"
        },
        "id": "M1g8En4dleEM",
        "outputId": "e0641747-f9e6-4f1d-a7e7-06c8f96153a0"
      },
      "execution_count": 25,
      "outputs": [
        {
          "output_type": "stream",
          "name": "stdout",
          "text": [
            "{'name': 'John', 'age': 25, 'country': 'USA'}\n"
          ]
        }
      ]
    },
    {
      "cell_type": "code",
      "source": [
        "#23. Access the value associated with the key 'name' in {'name': 'Alice', 'age': 30}\n",
        "person = {'name': 'Alice', 'age': 30}\n",
        "print(person['name'])"
      ],
      "metadata": {
        "colab": {
          "base_uri": "https://localhost:8080/"
        },
        "id": "scYc6AYElfrL",
        "outputId": "d27d34de-48d3-4948-c111-c80d987f51d8"
      },
      "execution_count": 26,
      "outputs": [
        {
          "output_type": "stream",
          "name": "stdout",
          "text": [
            "Alice\n"
          ]
        }
      ]
    },
    {
      "cell_type": "code",
      "source": [
        "#24. Remove the key 'age' from {'name': 'Bob', 'age': 22, 'city': 'New York'}\n",
        "person = {'name': 'Bob', 'age': 22, 'city': 'New York'}\n",
        "person.pop('age')\n",
        "print(person)"
      ],
      "metadata": {
        "colab": {
          "base_uri": "https://localhost:8080/"
        },
        "id": "7TETzxSGlhXm",
        "outputId": "94545fb5-7788-45c3-c047-a37db5f96823"
      },
      "execution_count": 27,
      "outputs": [
        {
          "output_type": "stream",
          "name": "stdout",
          "text": [
            "{'name': 'Bob', 'city': 'New York'}\n"
          ]
        }
      ]
    },
    {
      "cell_type": "code",
      "source": [
        "#25. Check if the key 'city' exists in {'name': 'Alice', 'city': 'Paris'}\n",
        "person = {'name': 'Alice', 'city': 'Paris'}\n",
        "print('city' in person)"
      ],
      "metadata": {
        "colab": {
          "base_uri": "https://localhost:8080/"
        },
        "id": "OZMhkF4LljFK",
        "outputId": "ed32e817-3aab-46f2-9188-3937bd23283a"
      },
      "execution_count": 28,
      "outputs": [
        {
          "output_type": "stream",
          "name": "stdout",
          "text": [
            "True\n"
          ]
        }
      ]
    },
    {
      "cell_type": "code",
      "source": [
        "#26. Create a list, a tuple, and a dictionary, and print them all\n",
        "my_list = [1, 2, 3]\n",
        "my_tuple = (4, 5, 6)\n",
        "my_dict = {'a': 1, 'b': 2}\n",
        "print(my_list, my_tuple, my_dict)"
      ],
      "metadata": {
        "colab": {
          "base_uri": "https://localhost:8080/"
        },
        "id": "2cFfuSdqllDa",
        "outputId": "4d41b4be-c6b3-4cf9-a801-3ce2e730c13c"
      },
      "execution_count": 29,
      "outputs": [
        {
          "output_type": "stream",
          "name": "stdout",
          "text": [
            "[1, 2, 3] (4, 5, 6) {'a': 1, 'b': 2}\n"
          ]
        }
      ]
    },
    {
      "cell_type": "code",
      "source": [
        "#27. Create a list of 5 random numbers between 1 and 100, sort it in ascending order, and print it\n",
        "import random\n",
        "nums = random.sample(range(1, 101), 5)\n",
        "nums.sort()\n",
        "print(nums)"
      ],
      "metadata": {
        "colab": {
          "base_uri": "https://localhost:8080/"
        },
        "id": "TpyIpA5Tlmrc",
        "outputId": "8558dd59-d56e-4fc6-eb94-86fe7cc3612f"
      },
      "execution_count": 30,
      "outputs": [
        {
          "output_type": "stream",
          "name": "stdout",
          "text": [
            "[39, 56, 67, 77, 96]\n"
          ]
        }
      ]
    },
    {
      "cell_type": "code",
      "source": [
        "#28. Create a list with strings and print the element at the third index\n",
        "words = ['apple', 'banana', 'cherry', 'date']\n",
        "print(words[3])"
      ],
      "metadata": {
        "colab": {
          "base_uri": "https://localhost:8080/"
        },
        "id": "bepnUuBTloTY",
        "outputId": "a38391d3-a50c-4003-ad4f-109ff0ba134b"
      },
      "execution_count": 31,
      "outputs": [
        {
          "output_type": "stream",
          "name": "stdout",
          "text": [
            "date\n"
          ]
        }
      ]
    },
    {
      "cell_type": "code",
      "source": [
        "#29. Combine two dictionaries into one and print the result\n",
        "dict1 = {'a': 1, 'b': 2}\n",
        "dict2 = {'c': 3, 'd': 4}\n",
        "combined = {**dict1, **dict2}\n",
        "print(combined)"
      ],
      "metadata": {
        "colab": {
          "base_uri": "https://localhost:8080/"
        },
        "id": "uKjYDcIblqFC",
        "outputId": "03e64130-119e-48b0-f250-26ea5c1c676d"
      },
      "execution_count": 32,
      "outputs": [
        {
          "output_type": "stream",
          "name": "stdout",
          "text": [
            "{'a': 1, 'b': 2, 'c': 3, 'd': 4}\n"
          ]
        }
      ]
    },
    {
      "cell_type": "code",
      "source": [
        "#30. Convert a list of strings into a set\n",
        "words = ['a', 'b', 'a', 'c']\n",
        "unique = set(words)\n",
        "print(unique)"
      ],
      "metadata": {
        "colab": {
          "base_uri": "https://localhost:8080/"
        },
        "id": "Yeq68jn6lrjs",
        "outputId": "8e392288-fe25-4355-f1cd-cee4e19178eb"
      },
      "execution_count": 33,
      "outputs": [
        {
          "output_type": "stream",
          "name": "stdout",
          "text": [
            "{'b', 'a', 'c'}\n"
          ]
        }
      ]
    }
  ]
}